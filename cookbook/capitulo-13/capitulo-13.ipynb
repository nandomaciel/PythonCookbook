{
 "cells": [
  {
   "cell_type": "markdown",
   "metadata": {},
   "source": [
    "# Capítulo 13\n",
    "## Criação de scripts utilitários e administração de sistemas "
   ]
  },
  {
   "cell_type": "markdown",
   "metadata": {},
   "source": [
    "### 13.1. Aceitar entrada em scripts por meio de redirecionamento, pipes ou arquivos de entrada"
   ]
  },
  {
   "cell_type": "code",
   "execution_count": 5,
   "metadata": {
    "collapsed": true
   },
   "outputs": [
    {
     "ename": "FileNotFoundError",
     "evalue": "[Errno 2] No such file or directory: '-f'",
     "output_type": "error",
     "traceback": [
      "\u001b[0;31m---------------------------------------------------------------------------\u001b[0m",
      "\u001b[0;31mFileNotFoundError\u001b[0m                         Traceback (most recent call last)",
      "\u001b[0;32m<ipython-input-5-2c048c81dfc4>\u001b[0m in \u001b[0;36m<module>\u001b[0;34m()\u001b[0m\n\u001b[1;32m      4\u001b[0m \u001b[0;31m# O camando funciona no sistema\u001b[0m\u001b[0;34m\u001b[0m\u001b[0;34m\u001b[0m\u001b[0;34m\u001b[0m\u001b[0m\n\u001b[1;32m      5\u001b[0m \u001b[0;32mwith\u001b[0m \u001b[0mfileinput\u001b[0m\u001b[0;34m.\u001b[0m\u001b[0minput\u001b[0m\u001b[0;34m(\u001b[0m\u001b[0;34m)\u001b[0m \u001b[0;32mas\u001b[0m \u001b[0mf_input\u001b[0m\u001b[0;34m:\u001b[0m\u001b[0;34m\u001b[0m\u001b[0;34m\u001b[0m\u001b[0m\n\u001b[0;32m----> 6\u001b[0;31m     \u001b[0;32mfor\u001b[0m \u001b[0mline\u001b[0m \u001b[0;32min\u001b[0m \u001b[0mf_input\u001b[0m\u001b[0;34m:\u001b[0m\u001b[0;34m\u001b[0m\u001b[0;34m\u001b[0m\u001b[0m\n\u001b[0m\u001b[1;32m      7\u001b[0m         \u001b[0mprint\u001b[0m\u001b[0;34m(\u001b[0m\u001b[0mline\u001b[0m\u001b[0;34m,\u001b[0m \u001b[0mend\u001b[0m\u001b[0;34m=\u001b[0m\u001b[0;34m''\u001b[0m\u001b[0;34m)\u001b[0m\u001b[0;34m\u001b[0m\u001b[0;34m\u001b[0m\u001b[0m\n",
      "\u001b[0;32m/usr/lib/python3.6/fileinput.py\u001b[0m in \u001b[0;36m__next__\u001b[0;34m(self)\u001b[0m\n\u001b[1;32m    248\u001b[0m     \u001b[0;32mdef\u001b[0m \u001b[0m__next__\u001b[0m\u001b[0;34m(\u001b[0m\u001b[0mself\u001b[0m\u001b[0;34m)\u001b[0m\u001b[0;34m:\u001b[0m\u001b[0;34m\u001b[0m\u001b[0;34m\u001b[0m\u001b[0m\n\u001b[1;32m    249\u001b[0m         \u001b[0;32mwhile\u001b[0m \u001b[0;32mTrue\u001b[0m\u001b[0;34m:\u001b[0m\u001b[0;34m\u001b[0m\u001b[0;34m\u001b[0m\u001b[0m\n\u001b[0;32m--> 250\u001b[0;31m             \u001b[0mline\u001b[0m \u001b[0;34m=\u001b[0m \u001b[0mself\u001b[0m\u001b[0;34m.\u001b[0m\u001b[0m_readline\u001b[0m\u001b[0;34m(\u001b[0m\u001b[0;34m)\u001b[0m\u001b[0;34m\u001b[0m\u001b[0;34m\u001b[0m\u001b[0m\n\u001b[0m\u001b[1;32m    251\u001b[0m             \u001b[0;32mif\u001b[0m \u001b[0mline\u001b[0m\u001b[0;34m:\u001b[0m\u001b[0;34m\u001b[0m\u001b[0;34m\u001b[0m\u001b[0m\n\u001b[1;32m    252\u001b[0m                 \u001b[0mself\u001b[0m\u001b[0;34m.\u001b[0m\u001b[0m_filelineno\u001b[0m \u001b[0;34m+=\u001b[0m \u001b[0;36m1\u001b[0m\u001b[0;34m\u001b[0m\u001b[0;34m\u001b[0m\u001b[0m\n",
      "\u001b[0;32m/usr/lib/python3.6/fileinput.py\u001b[0m in \u001b[0;36m_readline\u001b[0;34m(self)\u001b[0m\n\u001b[1;32m    360\u001b[0m                     \u001b[0mself\u001b[0m\u001b[0;34m.\u001b[0m\u001b[0m_file\u001b[0m \u001b[0;34m=\u001b[0m \u001b[0mself\u001b[0m\u001b[0;34m.\u001b[0m\u001b[0m_openhook\u001b[0m\u001b[0;34m(\u001b[0m\u001b[0mself\u001b[0m\u001b[0;34m.\u001b[0m\u001b[0m_filename\u001b[0m\u001b[0;34m,\u001b[0m \u001b[0mself\u001b[0m\u001b[0;34m.\u001b[0m\u001b[0m_mode\u001b[0m\u001b[0;34m)\u001b[0m\u001b[0;34m\u001b[0m\u001b[0;34m\u001b[0m\u001b[0m\n\u001b[1;32m    361\u001b[0m                 \u001b[0;32melse\u001b[0m\u001b[0;34m:\u001b[0m\u001b[0;34m\u001b[0m\u001b[0;34m\u001b[0m\u001b[0m\n\u001b[0;32m--> 362\u001b[0;31m                     \u001b[0mself\u001b[0m\u001b[0;34m.\u001b[0m\u001b[0m_file\u001b[0m \u001b[0;34m=\u001b[0m \u001b[0mopen\u001b[0m\u001b[0;34m(\u001b[0m\u001b[0mself\u001b[0m\u001b[0;34m.\u001b[0m\u001b[0m_filename\u001b[0m\u001b[0;34m,\u001b[0m \u001b[0mself\u001b[0m\u001b[0;34m.\u001b[0m\u001b[0m_mode\u001b[0m\u001b[0;34m)\u001b[0m\u001b[0;34m\u001b[0m\u001b[0;34m\u001b[0m\u001b[0m\n\u001b[0m\u001b[1;32m    363\u001b[0m         \u001b[0mself\u001b[0m\u001b[0;34m.\u001b[0m\u001b[0m_readline\u001b[0m \u001b[0;34m=\u001b[0m \u001b[0mself\u001b[0m\u001b[0;34m.\u001b[0m\u001b[0m_file\u001b[0m\u001b[0;34m.\u001b[0m\u001b[0mreadline\u001b[0m  \u001b[0;31m# hide FileInput._readline\u001b[0m\u001b[0;34m\u001b[0m\u001b[0;34m\u001b[0m\u001b[0m\n\u001b[1;32m    364\u001b[0m         \u001b[0;32mreturn\u001b[0m \u001b[0mself\u001b[0m\u001b[0;34m.\u001b[0m\u001b[0m_readline\u001b[0m\u001b[0;34m(\u001b[0m\u001b[0;34m)\u001b[0m\u001b[0;34m\u001b[0m\u001b[0;34m\u001b[0m\u001b[0m\n",
      "\u001b[0;31mFileNotFoundError\u001b[0m: [Errno 2] No such file or directory: '-f'"
     ]
    }
   ],
   "source": [
    "#!usr/bin/env python3\n",
    "import fileinput\n",
    "\n",
    "# O camando funciona no sistema\n",
    "with fileinput.input() as f_input:\n",
    "    for line in f_input:\n",
    "        print(line, end='')"
   ]
  },
  {
   "cell_type": "code",
   "execution_count": 6,
   "metadata": {
    "collapsed": true
   },
   "outputs": [
    {
     "ename": "FileNotFoundError",
     "evalue": "[Errno 2] No such file or directory: '-f'",
     "output_type": "error",
     "traceback": [
      "\u001b[0;31m---------------------------------------------------------------------------\u001b[0m",
      "\u001b[0;31mFileNotFoundError\u001b[0m                         Traceback (most recent call last)",
      "\u001b[0;32m<ipython-input-6-cb4b97027676>\u001b[0m in \u001b[0;36m<module>\u001b[0;34m()\u001b[0m\n\u001b[1;32m      4\u001b[0m \u001b[0;31m# O camando funciona no sistema\u001b[0m\u001b[0;34m\u001b[0m\u001b[0;34m\u001b[0m\u001b[0;34m\u001b[0m\u001b[0m\n\u001b[1;32m      5\u001b[0m \u001b[0;32mwith\u001b[0m \u001b[0mfileinput\u001b[0m\u001b[0;34m.\u001b[0m\u001b[0minput\u001b[0m\u001b[0;34m(\u001b[0m\u001b[0;34m)\u001b[0m \u001b[0;32mas\u001b[0m \u001b[0mf_input\u001b[0m\u001b[0;34m:\u001b[0m\u001b[0;34m\u001b[0m\u001b[0;34m\u001b[0m\u001b[0m\n\u001b[0;32m----> 6\u001b[0;31m     \u001b[0;32mfor\u001b[0m \u001b[0mline\u001b[0m \u001b[0;32min\u001b[0m \u001b[0mf_input\u001b[0m\u001b[0;34m:\u001b[0m\u001b[0;34m\u001b[0m\u001b[0;34m\u001b[0m\u001b[0m\n\u001b[0m\u001b[1;32m      7\u001b[0m         \u001b[0mprint\u001b[0m\u001b[0;34m(\u001b[0m\u001b[0mf\u001b[0m\u001b[0;34m.\u001b[0m\u001b[0mfilename\u001b[0m\u001b[0;34m(\u001b[0m\u001b[0;34m)\u001b[0m\u001b[0;34m,\u001b[0m \u001b[0mf\u001b[0m\u001b[0;34m.\u001b[0m\u001b[0mlineno\u001b[0m\u001b[0;34m(\u001b[0m\u001b[0;34m)\u001b[0m\u001b[0;34m,\u001b[0m \u001b[0mline\u001b[0m\u001b[0;34m,\u001b[0m \u001b[0mend\u001b[0m\u001b[0;34m=\u001b[0m\u001b[0;34m''\u001b[0m\u001b[0;34m)\u001b[0m\u001b[0;34m\u001b[0m\u001b[0;34m\u001b[0m\u001b[0m\n",
      "\u001b[0;32m/usr/lib/python3.6/fileinput.py\u001b[0m in \u001b[0;36m__next__\u001b[0;34m(self)\u001b[0m\n\u001b[1;32m    248\u001b[0m     \u001b[0;32mdef\u001b[0m \u001b[0m__next__\u001b[0m\u001b[0;34m(\u001b[0m\u001b[0mself\u001b[0m\u001b[0;34m)\u001b[0m\u001b[0;34m:\u001b[0m\u001b[0;34m\u001b[0m\u001b[0;34m\u001b[0m\u001b[0m\n\u001b[1;32m    249\u001b[0m         \u001b[0;32mwhile\u001b[0m \u001b[0;32mTrue\u001b[0m\u001b[0;34m:\u001b[0m\u001b[0;34m\u001b[0m\u001b[0;34m\u001b[0m\u001b[0m\n\u001b[0;32m--> 250\u001b[0;31m             \u001b[0mline\u001b[0m \u001b[0;34m=\u001b[0m \u001b[0mself\u001b[0m\u001b[0;34m.\u001b[0m\u001b[0m_readline\u001b[0m\u001b[0;34m(\u001b[0m\u001b[0;34m)\u001b[0m\u001b[0;34m\u001b[0m\u001b[0;34m\u001b[0m\u001b[0m\n\u001b[0m\u001b[1;32m    251\u001b[0m             \u001b[0;32mif\u001b[0m \u001b[0mline\u001b[0m\u001b[0;34m:\u001b[0m\u001b[0;34m\u001b[0m\u001b[0;34m\u001b[0m\u001b[0m\n\u001b[1;32m    252\u001b[0m                 \u001b[0mself\u001b[0m\u001b[0;34m.\u001b[0m\u001b[0m_filelineno\u001b[0m \u001b[0;34m+=\u001b[0m \u001b[0;36m1\u001b[0m\u001b[0;34m\u001b[0m\u001b[0;34m\u001b[0m\u001b[0m\n",
      "\u001b[0;32m/usr/lib/python3.6/fileinput.py\u001b[0m in \u001b[0;36m_readline\u001b[0;34m(self)\u001b[0m\n\u001b[1;32m    360\u001b[0m                     \u001b[0mself\u001b[0m\u001b[0;34m.\u001b[0m\u001b[0m_file\u001b[0m \u001b[0;34m=\u001b[0m \u001b[0mself\u001b[0m\u001b[0;34m.\u001b[0m\u001b[0m_openhook\u001b[0m\u001b[0;34m(\u001b[0m\u001b[0mself\u001b[0m\u001b[0;34m.\u001b[0m\u001b[0m_filename\u001b[0m\u001b[0;34m,\u001b[0m \u001b[0mself\u001b[0m\u001b[0;34m.\u001b[0m\u001b[0m_mode\u001b[0m\u001b[0;34m)\u001b[0m\u001b[0;34m\u001b[0m\u001b[0;34m\u001b[0m\u001b[0m\n\u001b[1;32m    361\u001b[0m                 \u001b[0;32melse\u001b[0m\u001b[0;34m:\u001b[0m\u001b[0;34m\u001b[0m\u001b[0;34m\u001b[0m\u001b[0m\n\u001b[0;32m--> 362\u001b[0;31m                     \u001b[0mself\u001b[0m\u001b[0;34m.\u001b[0m\u001b[0m_file\u001b[0m \u001b[0;34m=\u001b[0m \u001b[0mopen\u001b[0m\u001b[0;34m(\u001b[0m\u001b[0mself\u001b[0m\u001b[0;34m.\u001b[0m\u001b[0m_filename\u001b[0m\u001b[0;34m,\u001b[0m \u001b[0mself\u001b[0m\u001b[0;34m.\u001b[0m\u001b[0m_mode\u001b[0m\u001b[0;34m)\u001b[0m\u001b[0;34m\u001b[0m\u001b[0;34m\u001b[0m\u001b[0m\n\u001b[0m\u001b[1;32m    363\u001b[0m         \u001b[0mself\u001b[0m\u001b[0;34m.\u001b[0m\u001b[0m_readline\u001b[0m \u001b[0;34m=\u001b[0m \u001b[0mself\u001b[0m\u001b[0;34m.\u001b[0m\u001b[0m_file\u001b[0m\u001b[0;34m.\u001b[0m\u001b[0mreadline\u001b[0m  \u001b[0;31m# hide FileInput._readline\u001b[0m\u001b[0;34m\u001b[0m\u001b[0;34m\u001b[0m\u001b[0m\n\u001b[1;32m    364\u001b[0m         \u001b[0;32mreturn\u001b[0m \u001b[0mself\u001b[0m\u001b[0;34m.\u001b[0m\u001b[0m_readline\u001b[0m\u001b[0;34m(\u001b[0m\u001b[0;34m)\u001b[0m\u001b[0;34m\u001b[0m\u001b[0;34m\u001b[0m\u001b[0m\n",
      "\u001b[0;31mFileNotFoundError\u001b[0m: [Errno 2] No such file or directory: '-f'"
     ]
    }
   ],
   "source": [
    "#!usr/bin/env python3\n",
    "\n",
    "# filein.py\n",
    "\n",
    "import fileinput\n",
    "\n",
    "# O camando funciona no sistema\n",
    "with fileinput.input() as f_input:\n",
    "    for line in f_input:\n",
    "        print(f.filename(), f.lineno(), line, end='')"
   ]
  },
  {
   "cell_type": "code",
   "execution_count": 30,
   "metadata": {
    "collapsed": true
   },
   "outputs": [
    {
     "name": "stdout",
     "output_type": "stream",
     "text": [
      "/etc/passwd <bound method FileInput.fileno of <fileinput.FileInput object at 0x7f016c4d0b38>> root:x:0:0:root:/root:/bin/bash\n",
      "/etc/passwd <bound method FileInput.fileno of <fileinput.FileInput object at 0x7f016c4d0b38>> daemon:x:1:1:daemon:/usr/sbin:/usr/sbin/nologin\n",
      "/etc/passwd <bound method FileInput.fileno of <fileinput.FileInput object at 0x7f016c4d0b38>> bin:x:2:2:bin:/bin:/usr/sbin/nologin\n",
      "/etc/passwd <bound method FileInput.fileno of <fileinput.FileInput object at 0x7f016c4d0b38>> sys:x:3:3:sys:/dev:/usr/sbin/nologin\n",
      "/etc/passwd <bound method FileInput.fileno of <fileinput.FileInput object at 0x7f016c4d0b38>> sync:x:4:65534:sync:/bin:/bin/sync\n",
      "/etc/passwd <bound method FileInput.fileno of <fileinput.FileInput object at 0x7f016c4d0b38>> games:x:5:60:games:/usr/games:/usr/sbin/nologin\n",
      "/etc/passwd <bound method FileInput.fileno of <fileinput.FileInput object at 0x7f016c4d0b38>> man:x:6:12:man:/var/cache/man:/usr/sbin/nologin\n",
      "/etc/passwd <bound method FileInput.fileno of <fileinput.FileInput object at 0x7f016c4d0b38>> lp:x:7:7:lp:/var/spool/lpd:/usr/sbin/nologin\n",
      "/etc/passwd <bound method FileInput.fileno of <fileinput.FileInput object at 0x7f016c4d0b38>> mail:x:8:8:mail:/var/mail:/usr/sbin/nologin\n",
      "/etc/passwd <bound method FileInput.fileno of <fileinput.FileInput object at 0x7f016c4d0b38>> news:x:9:9:news:/var/spool/news:/usr/sbin/nologin\n",
      "/etc/passwd <bound method FileInput.fileno of <fileinput.FileInput object at 0x7f016c4d0b38>> uucp:x:10:10:uucp:/var/spool/uucp:/usr/sbin/nologin\n",
      "/etc/passwd <bound method FileInput.fileno of <fileinput.FileInput object at 0x7f016c4d0b38>> proxy:x:13:13:proxy:/bin:/usr/sbin/nologin\n",
      "/etc/passwd <bound method FileInput.fileno of <fileinput.FileInput object at 0x7f016c4d0b38>> www-data:x:33:33:www-data:/var/www:/usr/sbin/nologin\n",
      "/etc/passwd <bound method FileInput.fileno of <fileinput.FileInput object at 0x7f016c4d0b38>> backup:x:34:34:backup:/var/backups:/usr/sbin/nologin\n",
      "/etc/passwd <bound method FileInput.fileno of <fileinput.FileInput object at 0x7f016c4d0b38>> list:x:38:38:Mailing List Manager:/var/list:/usr/sbin/nologin\n",
      "/etc/passwd <bound method FileInput.fileno of <fileinput.FileInput object at 0x7f016c4d0b38>> irc:x:39:39:ircd:/var/run/ircd:/usr/sbin/nologin\n",
      "/etc/passwd <bound method FileInput.fileno of <fileinput.FileInput object at 0x7f016c4d0b38>> gnats:x:41:41:Gnats Bug-Reporting System (admin):/var/lib/gnats:/usr/sbin/nologin\n",
      "/etc/passwd <bound method FileInput.fileno of <fileinput.FileInput object at 0x7f016c4d0b38>> nobody:x:65534:65534:nobody:/nonexistent:/usr/sbin/nologin\n",
      "/etc/passwd <bound method FileInput.fileno of <fileinput.FileInput object at 0x7f016c4d0b38>> systemd-timesync:x:100:102:systemd Time Synchronization,,,:/run/systemd:/bin/false\n",
      "/etc/passwd <bound method FileInput.fileno of <fileinput.FileInput object at 0x7f016c4d0b38>> systemd-network:x:101:103:systemd Network Management,,,:/run/systemd/netif:/bin/false\n",
      "/etc/passwd <bound method FileInput.fileno of <fileinput.FileInput object at 0x7f016c4d0b38>> systemd-resolve:x:102:104:systemd Resolver,,,:/run/systemd/resolve:/bin/false\n",
      "/etc/passwd <bound method FileInput.fileno of <fileinput.FileInput object at 0x7f016c4d0b38>> syslog:x:104:108::/home/syslog:/bin/false\n",
      "/etc/passwd <bound method FileInput.fileno of <fileinput.FileInput object at 0x7f016c4d0b38>> _apt:x:105:65534::/nonexistent:/bin/false\n",
      "/etc/passwd <bound method FileInput.fileno of <fileinput.FileInput object at 0x7f016c4d0b38>> messagebus:x:106:110::/var/run/dbus:/bin/false\n",
      "/etc/passwd <bound method FileInput.fileno of <fileinput.FileInput object at 0x7f016c4d0b38>> uuidd:x:107:111::/run/uuidd:/bin/false\n",
      "/etc/passwd <bound method FileInput.fileno of <fileinput.FileInput object at 0x7f016c4d0b38>> lightdm:x:108:114:Light Display Manager:/var/lib/lightdm:/bin/false\n",
      "/etc/passwd <bound method FileInput.fileno of <fileinput.FileInput object at 0x7f016c4d0b38>> whoopsie:x:109:116::/nonexistent:/bin/false\n",
      "/etc/passwd <bound method FileInput.fileno of <fileinput.FileInput object at 0x7f016c4d0b38>> avahi-autoipd:x:110:119:Avahi autoip daemon,,,:/var/lib/avahi-autoipd:/bin/false\n",
      "/etc/passwd <bound method FileInput.fileno of <fileinput.FileInput object at 0x7f016c4d0b38>> avahi:x:111:120:Avahi mDNS daemon,,,:/var/run/avahi-daemon:/bin/false\n",
      "/etc/passwd <bound method FileInput.fileno of <fileinput.FileInput object at 0x7f016c4d0b38>> dnsmasq:x:112:65534:dnsmasq,,,:/var/lib/misc:/bin/false\n",
      "/etc/passwd <bound method FileInput.fileno of <fileinput.FileInput object at 0x7f016c4d0b38>> colord:x:113:123:colord colour management daemon,,,:/var/lib/colord:/bin/false\n",
      "/etc/passwd <bound method FileInput.fileno of <fileinput.FileInput object at 0x7f016c4d0b38>> speech-dispatcher:x:114:29:Speech Dispatcher,,,:/var/run/speech-dispatcher:/bin/false\n",
      "/etc/passwd <bound method FileInput.fileno of <fileinput.FileInput object at 0x7f016c4d0b38>> hplip:x:115:7:HPLIP system user,,,:/var/run/hplip:/bin/false\n",
      "/etc/passwd <bound method FileInput.fileno of <fileinput.FileInput object at 0x7f016c4d0b38>> kernoops:x:116:65534:Kernel Oops Tracking Daemon,,,:/:/bin/false\n",
      "/etc/passwd <bound method FileInput.fileno of <fileinput.FileInput object at 0x7f016c4d0b38>> pulse:x:117:124:PulseAudio daemon,,,:/var/run/pulse:/bin/false\n",
      "/etc/passwd <bound method FileInput.fileno of <fileinput.FileInput object at 0x7f016c4d0b38>> rtkit:x:118:126:RealtimeKit,,,:/proc:/bin/false\n",
      "/etc/passwd <bound method FileInput.fileno of <fileinput.FileInput object at 0x7f016c4d0b38>> saned:x:119:127::/var/lib/saned:/bin/false\n",
      "/etc/passwd <bound method FileInput.fileno of <fileinput.FileInput object at 0x7f016c4d0b38>> usbmux:x:120:46:usbmux daemon,,,:/var/lib/usbmux:/bin/false\n",
      "/etc/passwd <bound method FileInput.fileno of <fileinput.FileInput object at 0x7f016c4d0b38>> fernando:x:1000:1000:Fernando,,,:/home/fernando:/bin/bash\n",
      "/etc/passwd <bound method FileInput.fileno of <fileinput.FileInput object at 0x7f016c4d0b38>> cups-pk-helper:x:103:113:user for cups-pk-helper service,,,:/home/cups-pk-helper:/usr/sbin/nologin\n",
      "/etc/passwd <bound method FileInput.fileno of <fileinput.FileInput object at 0x7f016c4d0b38>> geoclue:x:121:130::/var/lib/geoclue:/usr/sbin/nologin\n",
      "/etc/passwd <bound method FileInput.fileno of <fileinput.FileInput object at 0x7f016c4d0b38>> gdm:x:122:131:Gnome Display Manager:/var/lib/gdm3:/bin/false\n",
      "/etc/passwd <bound method FileInput.fileno of <fileinput.FileInput object at 0x7f016c4d0b38>> gnome-initial-setup:x:123:65534::/run/gnome-initial-setup/:/bin/false\n",
      "/etc/passwd <bound method FileInput.fileno of <fileinput.FileInput object at 0x7f016c4d0b38>> sddm:x:124:132:Simple Desktop Display Manager:/var/lib/sddm:/bin/false\n",
      "/etc/passwd <bound method FileInput.fileno of <fileinput.FileInput object at 0x7f016c4d0b38>> mpd:x:125:29::/var/lib/mpd:/usr/sbin/nologin\n",
      "/etc/passwd <bound method FileInput.fileno of <fileinput.FileInput object at 0x7f016c4d0b38>> mysql:x:126:133:MySQL Server,,,:/nonexistent:/bin/false\n",
      "/etc/passwd <bound method FileInput.fileno of <fileinput.FileInput object at 0x7f016c4d0b38>> postgres:x:127:134:PostgreSQL administrator,,,:/var/lib/postgresql:/bin/bash\n"
     ]
    }
   ],
   "source": [
    "%run -i filein.py"
   ]
  },
  {
   "cell_type": "markdown",
   "metadata": {},
   "source": [
    "### 13.2. Terminar um programa com uma mensagem de erro"
   ]
  },
  {
   "cell_type": "code",
   "execution_count": 31,
   "metadata": {
    "collapsed": true
   },
   "outputs": [
    {
     "name": "stderr",
     "output_type": "stream",
     "text": [
      "It failed!\n"
     ]
    },
    {
     "ename": "SystemExit",
     "evalue": "1",
     "output_type": "error",
     "traceback": [
      "An exception has occurred, use %tb to see the full traceback.\n",
      "\u001b[0;31mSystemExit\u001b[0m\u001b[0;31m:\u001b[0m 1\n"
     ]
    },
    {
     "name": "stderr",
     "output_type": "stream",
     "text": [
      "/usr/lib/python3/dist-packages/IPython/core/interactiveshell.py:2890: UserWarning: To exit: use 'exit', 'quit', or Ctrl-D.\n",
      "  warn(\"To exit: use 'exit', 'quit', or Ctrl-D.\", stacklevel=1)\n"
     ]
    }
   ],
   "source": [
    "import sys\n",
    "sys.stderr.write(\"It failed!\\n\")\n",
    "raise SystemExit(1)"
   ]
  },
  {
   "cell_type": "markdown",
   "metadata": {},
   "source": [
    "### 13.3. Efeturar parse de opção da linha de comando"
   ]
  },
  {
   "cell_type": "code",
   "execution_count": 24,
   "metadata": {
    "collapsed": true
   },
   "outputs": [
    {
     "name": "stderr",
     "output_type": "stream",
     "text": [
      "usage: ipykernel_launcher.py [-h] -p pattern [-v] [-o OUTFILE]\n",
      "                             [--speed {slow,fast}]\n",
      "                             [filename [filename ...]]\n",
      "ipykernel_launcher.py: error: the following arguments are required: -p/--pat\n"
     ]
    },
    {
     "ename": "SystemExit",
     "evalue": "2",
     "output_type": "error",
     "traceback": [
      "An exception has occurred, use %tb to see the full traceback.\n",
      "\u001b[0;31mSystemExit\u001b[0m\u001b[0;31m:\u001b[0m 2\n"
     ]
    },
    {
     "name": "stderr",
     "output_type": "stream",
     "text": [
      "/usr/lib/python3/dist-packages/IPython/core/interactiveshell.py:2890: UserWarning: To exit: use 'exit', 'quit', or Ctrl-D.\n",
      "  warn(\"To exit: use 'exit', 'quit', or Ctrl-D.\", stacklevel=1)\n"
     ]
    }
   ],
   "source": [
    "# search.py\n",
    "import argparse\n",
    "\n",
    "parser = argparse.ArgumentParser(description='Search some files')\n",
    "parser.add_argument(dest='filenames', metavar='filename', nargs='*')\n",
    "parser.add_argument('-p','--pat', metavar='pattern', required=True ,\n",
    "                    dest='patterns', action='append',\n",
    "                    help='text pattern to search for')\n",
    "parser.add_argument('-v', dest='verbose', action='store_true',\n",
    "                    help='verbose mode')\n",
    "parser.add_argument('-o', dest='outfile', action='store',\n",
    "                    help='output file')\n",
    "parser.add_argument('--speed', dest='speed', action='store', \n",
    "                    choices={'slow', 'fast'}, default='slow',\n",
    "                    help='search speed')\n",
    "args = parser.parse_args()\n",
    "\n",
    "# Apresenta os argumentos encontrados\n",
    "\n",
    "print(args.filenames)\n",
    "print(args.patterns)\n",
    "print(args.verbose)\n",
    "print(args.outfile)\n",
    "print(args.speed)"
   ]
  },
  {
   "cell_type": "code",
   "execution_count": 41,
   "metadata": {},
   "outputs": [
    {
     "name": "stdout",
     "output_type": "stream",
     "text": [
      "['foo.txt', 'bar.txt']\n",
      "['spam', 'eggs']\n",
      "True\n",
      "None\n",
      "slow\n"
     ]
    }
   ],
   "source": [
    "%run -i search.py -v -p spam --pat=eggs foo.txt bar.txt"
   ]
  },
  {
   "cell_type": "code",
   "execution_count": 42,
   "metadata": {},
   "outputs": [
    {
     "name": "stdout",
     "output_type": "stream",
     "text": [
      "['foo.txt', 'bar.txt']\n",
      "['spam', 'eggs']\n",
      "True\n",
      "results\n",
      "slow\n"
     ]
    }
   ],
   "source": [
    "%run -i search.py -v -p spam --pat=eggs foo.txt bar.txt -o results"
   ]
  },
  {
   "cell_type": "code",
   "execution_count": 43,
   "metadata": {},
   "outputs": [
    {
     "name": "stdout",
     "output_type": "stream",
     "text": [
      "['foo.txt', 'bar.txt']\n",
      "['spam', 'eggs']\n",
      "True\n",
      "results\n",
      "fast\n"
     ]
    }
   ],
   "source": [
    "%run -i search.py -v -p spam --pat=eggs foo.txt bar.txt -o results --speed=fast"
   ]
  },
  {
   "cell_type": "markdown",
   "metadata": {},
   "source": [
    "### 13.4. Solicitar uma senha em tempo de execução"
   ]
  },
  {
   "cell_type": "code",
   "execution_count": 72,
   "metadata": {},
   "outputs": [],
   "source": [
    "import hashlib\n",
    "\n",
    "#passwd = 12345\n",
    "\n",
    "def svc_login(user, passwd):\n",
    "    result = hashlib.md5(passwd.encode())  \n",
    "    if(user == \"admin\" and result.hexdigest() == '827ccb0eea8a706c4c34a16891f84e7b'):\n",
    "        return True"
   ]
  },
  {
   "cell_type": "code",
   "execution_count": 76,
   "metadata": {},
   "outputs": [
    {
     "name": "stdout",
     "output_type": "stream",
     "text": [
      "Usuário: admin\n",
      "senha: ········\n",
      "Boo!\n"
     ]
    }
   ],
   "source": [
    "import getpass\n",
    "#user = getpass.getuser()\n",
    "user = input(\"user: \")\n",
    "passwd = getpass.getpass(prompt='pass: ')\n",
    "\n",
    "\n",
    "if svc_login(user, passwd):\n",
    "    print('Yay!')\n",
    "else:\n",
    "    print('Boo!')"
   ]
  },
  {
   "cell_type": "markdown",
   "metadata": {},
   "source": [
    "### 13.5. Obter o tamanho do terminal"
   ]
  },
  {
   "cell_type": "code",
   "execution_count": null,
   "metadata": {},
   "outputs": [],
   "source": []
  },
  {
   "cell_type": "markdown",
   "metadata": {},
   "source": [
    "### 15.6. Executar um comando externo e obter sua saída"
   ]
  },
  {
   "cell_type": "code",
   "execution_count": null,
   "metadata": {},
   "outputs": [],
   "source": []
  }
 ],
 "metadata": {
  "kernelspec": {
   "display_name": "Python 3",
   "language": "python",
   "name": "python3"
  },
  "language_info": {
   "codemirror_mode": {
    "name": "ipython",
    "version": 3
   },
   "file_extension": ".py",
   "mimetype": "text/x-python",
   "name": "python",
   "nbconvert_exporter": "python",
   "pygments_lexer": "ipython3",
   "version": "3.6.7"
  }
 },
 "nbformat": 4,
 "nbformat_minor": 2
}
